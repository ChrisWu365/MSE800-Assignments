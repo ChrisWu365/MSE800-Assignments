{
 "cells": [
  {
   "cell_type": "code",
   "execution_count": 4,
   "id": "bfe25492",
   "metadata": {},
   "outputs": [
    {
     "name": "stdout",
     "output_type": "stream",
     "text": [
      "   EmailID                        Subject                Sender                                    Content  ContainsLink  IsSpam\n",
      "0        1             Win a Free iPhone!      promo@winbig.com  Click here to claim your free iPhone now!          True    True\n",
      "1        2  Important: Account Suspension  support@fakemail.com   We noticed unusual activity. Verify now.          True    True\n"
     ]
    }
   ],
   "source": [
    "import pandas as pd\n",
    "data_frame = pd.read_csv(\"sample_junk_mail.csv\")\n",
    "first_two_records = data_frame.head(2)\n",
    "print(first_two_records.to_string())"
   ]
  }
 ],
 "metadata": {
  "kernelspec": {
   "display_name": "MSE800Env",
   "language": "python",
   "name": "python3"
  },
  "language_info": {
   "codemirror_mode": {
    "name": "ipython",
    "version": 3
   },
   "file_extension": ".py",
   "mimetype": "text/x-python",
   "name": "python",
   "nbconvert_exporter": "python",
   "pygments_lexer": "ipython3",
   "version": "3.12.9"
  }
 },
 "nbformat": 4,
 "nbformat_minor": 5
}
