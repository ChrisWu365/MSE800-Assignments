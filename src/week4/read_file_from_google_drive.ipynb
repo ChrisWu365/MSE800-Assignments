{
  "nbformat": 4,
  "nbformat_minor": 0,
  "metadata": {
    "colab": {
      "provenance": []
    },
    "kernelspec": {
      "name": "python3",
      "display_name": "Python 3"
    },
    "language_info": {
      "name": "python"
    }
  },
  "cells": [
    {
      "cell_type": "code",
      "source": [
        "from google.colab import drive\n",
        "drive.mount('/content/drive/')"
      ],
      "metadata": {
        "colab": {
          "base_uri": "https://localhost:8080/"
        },
        "id": "nLmfrNZkeccM",
        "outputId": "ec1aac8e-ec46-489f-c57b-dc3fdec298c9"
      },
      "execution_count": null,
      "outputs": [
        {
          "output_type": "stream",
          "name": "stdout",
          "text": [
            "Drive already mounted at /content/drive/; to attempt to forcibly remount, call drive.mount(\"/content/drive/\", force_remount=True).\n"
          ]
        }
      ]
    },
    {
      "cell_type": "code",
      "source": [
        "%ls"
      ],
      "metadata": {
        "colab": {
          "base_uri": "https://localhost:8080/"
        },
        "id": "OyMYg-FqeleW",
        "outputId": "ac07aed0-8b7d-4090-e91a-c4ee0a4844aa"
      },
      "execution_count": null,
      "outputs": [
        {
          "output_type": "stream",
          "name": "stdout",
          "text": [
            "\u001b[0m\u001b[01;34mdrive\u001b[0m/  \u001b[01;34msample_data\u001b[0m/\n"
          ]
        }
      ]
    },
    {
      "cell_type": "code",
      "execution_count": null,
      "metadata": {
        "id": "qsieQARRXDPc",
        "colab": {
          "base_uri": "https://localhost:8080/"
        },
        "outputId": "6bc0a5be-7968-4661-a6db-8e3b3edbefb2"
      },
      "outputs": [
        {
          "output_type": "stream",
          "name": "stdout",
          "text": [
            "   EmailID                        Subject                 Sender                                    Content  ContainsLink  IsSpam\n",
            "0        1             Win a Free iPhone!       promo@winbig.com  Click here to claim your free iPhone now!          True    True\n",
            "1        2  Important: Account Suspension   support@fakemail.com   We noticed unusual activity. Verify now.          True    True\n",
            "2        3      Newsletter - April Update  news@legitcompany.com           Here is your monthly newsletter.         False   False\n"
          ]
        }
      ],
      "source": [
        "import pandas as pd\n",
        "data_frame = pd.read_csv('drive/MyDrive/Colab Notebooks/week4/sample_junk_mail.csv')\n",
        "first_two_records = data_frame.head(3)\n",
        "print(first_two_records.to_string())"
      ]
    },
    {
      "cell_type": "code",
      "source": [
        "import pandas as pd\n",
        "data_frame = pd.read_table('drive/MyDrive/Colab Notebooks/week4/sample_text.txt', header=None)\n",
        "print(f'First line: {data_frame.head(1).to_string()}')\n",
        "print('Last line: ', data_frame.tail(1).to_string())"
      ],
      "metadata": {
        "colab": {
          "base_uri": "https://localhost:8080/"
        },
        "id": "OOOSyUJ0zicP",
        "outputId": "b22061e5-3d25-4c55-9b06-8b5262273a2b"
      },
      "execution_count": null,
      "outputs": [
        {
          "output_type": "stream",
          "name": "stdout",
          "text": [
            "First line:                 0\n",
            "0  This is line 1\n",
            "Last line:                    0\n",
            "9  This is line 100\n"
          ]
        }
      ]
    },
    {
      "cell_type": "code",
      "source": [
        "import pandas as pd\n",
        "data_frame = pd.read_parquet('drive/MyDrive/Colab Notebooks/week4/Sample_data_2.parquet')\n",
        "print(data_frame.shape)\n",
        "print('Available records: ', len(data_frame))"
      ],
      "metadata": {
        "colab": {
          "base_uri": "https://localhost:8080/"
        },
        "id": "PXB3v6Q63Mws",
        "outputId": "69b3fc9f-a0ab-4be6-fb0a-8a118ec3ac7c"
      },
      "execution_count": null,
      "outputs": [
        {
          "output_type": "stream",
          "name": "stdout",
          "text": [
            "(891, 12)\n",
            "Available records:  891\n"
          ]
        }
      ]
    }
  ]
}