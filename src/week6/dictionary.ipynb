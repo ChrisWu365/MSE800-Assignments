{
 "cells": [
  {
   "cell_type": "code",
   "execution_count": 42,
   "id": "d5242714",
   "metadata": {},
   "outputs": [
    {
     "name": "stdout",
     "output_type": "stream",
     "text": [
      "{'a': 1, 'b': 2}\n",
      "{'a': 1, 'b': 2, 'd': 4}\n"
     ]
    }
   ],
   "source": [
    "keys = ['a', 'b', 'c']\n",
    "values = [1, 2]\n",
    "dictionary = {k:v for k, v in zip(keys, values)}\n",
    "print(dictionary)\n",
    "\n",
    "dictionary2 = {'d':4}\n",
    "merged_dict = {**dictionary, **dictionary2}\n",
    "print(merged_dict)\n",
    "\n"
   ]
  },
  {
   "cell_type": "code",
   "execution_count": 43,
   "id": "75db1036",
   "metadata": {},
   "outputs": [
    {
     "name": "stdout",
     "output_type": "stream",
     "text": [
      "(('a', 1), ('b', 2))\n"
     ]
    }
   ],
   "source": [
    "keys = ['a', 'b', 'c']\n",
    "values = [1, 2]\n",
    "\n",
    "dictionary3 = zip(keys, values)\n",
    "print(tuple(dictionary3))"
   ]
  },
  {
   "cell_type": "code",
   "execution_count": 44,
   "id": "3e7eb84e",
   "metadata": {},
   "outputs": [
    {
     "name": "stdout",
     "output_type": "stream",
     "text": [
      "{'a': 1, 'b': 3, 'c': 3, 'd': 4, 'e': 5}\n"
     ]
    }
   ],
   "source": [
    "dict1 = {'a': 1, 'b': 4}\n",
    "dict2 = {'b': 3, 'c': 3}\n",
    "dict3 = {'d': 4, 'e': 5}\n",
    "merge_dict123 = {**dict1, **dict2, **dict3}\n",
    "print(merge_dict123)"
   ]
  },
  {
   "cell_type": "code",
   "execution_count": 45,
   "id": "e9b58b3c",
   "metadata": {},
   "outputs": [
    {
     "name": "stdout",
     "output_type": "stream",
     "text": [
      "{'a': 10, 'i': 13, 'e': 14, 'o': 16, 'u': 17}\n"
     ]
    }
   ],
   "source": [
    "dict1 = {'a': 10, 'b': 11, 'c': 12, 'i': 13}\n",
    "dict2 = {'d': 13, 'e': 14, 'f': 15, 'o': 16, 'u': 17, 'z': 18}\n",
    "# merge all items in the dictionaries that match the conditions\n",
    "merge_dict12 = {**{k: v for k,v in dict1.items() if k in 'aeiou'}, **{k: v for k,v in dict2.items() if k in 'aeiou'}}\n",
    "print(merge_dict12)"
   ]
  },
  {
   "cell_type": "code",
   "execution_count": 46,
   "id": "11015d11",
   "metadata": {},
   "outputs": [
    {
     "data": {
      "text/plain": [
       "2"
      ]
     },
     "execution_count": 46,
     "metadata": {},
     "output_type": "execute_result"
    }
   ],
   "source": [
    "#underscore\n",
    "a = 1 + 1\n",
    "a"
   ]
  },
  {
   "cell_type": "code",
   "execution_count": 47,
   "id": "b299f3ea",
   "metadata": {},
   "outputs": [
    {
     "data": {
      "text/plain": [
       "(1, 2)"
      ]
     },
     "execution_count": 47,
     "metadata": {},
     "output_type": "execute_result"
    }
   ],
   "source": [
    "x, _, y = (1, \"ignored\", 2)\n",
    "x, y"
   ]
  },
  {
   "cell_type": "code",
   "execution_count": 48,
   "id": "686c6bba",
   "metadata": {},
   "outputs": [
    {
     "data": {
      "text/plain": [
       "'ignored'"
      ]
     },
     "execution_count": 48,
     "metadata": {},
     "output_type": "execute_result"
    }
   ],
   "source": [
    "_"
   ]
  },
  {
   "cell_type": "code",
   "execution_count": 49,
   "id": "ebd67abc",
   "metadata": {},
   "outputs": [
    {
     "name": "stdout",
     "output_type": "stream",
     "text": [
      "0 John\n",
      "1 Mike\n",
      "2 Tom\n"
     ]
    }
   ],
   "source": [
    "names = [\"John\", \"Mike\", \"Tom\"]\n",
    "for i, name in enumerate(names):\n",
    "    print(i, name)"
   ]
  },
  {
   "cell_type": "code",
   "execution_count": 50,
   "id": "c6a0ef38",
   "metadata": {},
   "outputs": [
    {
     "name": "stdout",
     "output_type": "stream",
     "text": [
      "9 John\n",
      "10 Mike\n",
      "11 Tom\n"
     ]
    }
   ],
   "source": [
    "names = [\"John\", \"Mike\", \"Tom\"]\n",
    "for i, name in enumerate(names, start=9):\n",
    "    print(i, name)"
   ]
  },
  {
   "cell_type": "code",
   "execution_count": 53,
   "id": "80bb762f",
   "metadata": {},
   "outputs": [
    {
     "name": "stdout",
     "output_type": "stream",
     "text": [
      "[('a', 1), ('b', 2)]\n",
      "<class 'list'>\n",
      "<class 'tuple'>\n"
     ]
    }
   ],
   "source": [
    "keys = ['a', 'b']\n",
    "values = [1, 2]\n",
    "paired = zip(keys, values)\n",
    "_ = list(paired)\n",
    "print(_)\n",
    "print(type(_))\n",
    "print(type(('a', 1)))"
   ]
  },
  {
   "cell_type": "code",
   "execution_count": 56,
   "id": "9882806f",
   "metadata": {},
   "outputs": [
    {
     "name": "stdout",
     "output_type": "stream",
     "text": [
      "{1: ('Alice', 'A'), 2: ('Bob', 'B'), 3: ('Cathy', 'A+')}\n"
     ]
    }
   ],
   "source": [
    "ids = [1, 2, 3]\n",
    "names = ['Alice', 'Bob', 'Cathy', 'Mike']\n",
    "grades = ['A', 'B', 'A+', 'A']\n",
    "# store the pairs of names and grades in variable name_grade\n",
    "name_grade = zip(names, grades)\n",
    "# store the pairs of student ids and name_grade information in a dictionary\n",
    "students = dict(zip(ids, name_grade))\n",
    "print(students)"
   ]
  }
 ],
 "metadata": {
  "kernelspec": {
   "display_name": "pythonEnv",
   "language": "python",
   "name": "python3"
  },
  "language_info": {
   "codemirror_mode": {
    "name": "ipython",
    "version": 3
   },
   "file_extension": ".py",
   "mimetype": "text/x-python",
   "name": "python",
   "nbconvert_exporter": "python",
   "pygments_lexer": "ipython3",
   "version": "3.12.9"
  }
 },
 "nbformat": 4,
 "nbformat_minor": 5
}
